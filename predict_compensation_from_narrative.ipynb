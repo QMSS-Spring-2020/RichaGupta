{
 "cells": [
  {
   "cell_type": "code",
   "execution_count": 1,
   "metadata": {},
   "outputs": [
    {
     "data": {
      "text/html": [
       "<div>\n",
       "<style scoped>\n",
       "    .dataframe tbody tr th:only-of-type {\n",
       "        vertical-align: middle;\n",
       "    }\n",
       "\n",
       "    .dataframe tbody tr th {\n",
       "        vertical-align: top;\n",
       "    }\n",
       "\n",
       "    .dataframe thead th {\n",
       "        text-align: right;\n",
       "    }\n",
       "</style>\n",
       "<table border=\"1\" class=\"dataframe\">\n",
       "  <thead>\n",
       "    <tr style=\"text-align: right;\">\n",
       "      <th></th>\n",
       "      <th>Date received</th>\n",
       "      <th>Product</th>\n",
       "      <th>Sub-product</th>\n",
       "      <th>Issue</th>\n",
       "      <th>Sub-issue</th>\n",
       "      <th>Consumer complaint narrative</th>\n",
       "      <th>Company public response</th>\n",
       "      <th>Company</th>\n",
       "      <th>State</th>\n",
       "      <th>ZIP code</th>\n",
       "      <th>Tags</th>\n",
       "      <th>Consumer consent provided?</th>\n",
       "      <th>Submitted via</th>\n",
       "      <th>Date sent to company</th>\n",
       "      <th>Company response to consumer</th>\n",
       "      <th>Timely response?</th>\n",
       "      <th>Consumer disputed?</th>\n",
       "      <th>Complaint ID</th>\n",
       "    </tr>\n",
       "  </thead>\n",
       "  <tbody>\n",
       "    <tr>\n",
       "      <th>0</th>\n",
       "      <td>2019-09-24</td>\n",
       "      <td>Debt collection</td>\n",
       "      <td>I do not know</td>\n",
       "      <td>Attempts to collect debt not owed</td>\n",
       "      <td>Debt is not yours</td>\n",
       "      <td>transworld systems inc. \\nis trying to collect...</td>\n",
       "      <td>NaN</td>\n",
       "      <td>TRANSWORLD SYSTEMS INC</td>\n",
       "      <td>FL</td>\n",
       "      <td>335XX</td>\n",
       "      <td>NaN</td>\n",
       "      <td>Consent provided</td>\n",
       "      <td>Web</td>\n",
       "      <td>2019-09-24</td>\n",
       "      <td>Closed with explanation</td>\n",
       "      <td>Yes</td>\n",
       "      <td>NaN</td>\n",
       "      <td>3384392</td>\n",
       "    </tr>\n",
       "    <tr>\n",
       "      <th>1</th>\n",
       "      <td>2019-09-19</td>\n",
       "      <td>Credit reporting, credit repair services, or o...</td>\n",
       "      <td>Credit reporting</td>\n",
       "      <td>Incorrect information on your report</td>\n",
       "      <td>Information belongs to someone else</td>\n",
       "      <td>NaN</td>\n",
       "      <td>Company has responded to the consumer and the ...</td>\n",
       "      <td>Experian Information Solutions Inc.</td>\n",
       "      <td>PA</td>\n",
       "      <td>15206</td>\n",
       "      <td>NaN</td>\n",
       "      <td>Consent not provided</td>\n",
       "      <td>Web</td>\n",
       "      <td>2019-09-20</td>\n",
       "      <td>Closed with non-monetary relief</td>\n",
       "      <td>Yes</td>\n",
       "      <td>NaN</td>\n",
       "      <td>3379500</td>\n",
       "    </tr>\n",
       "    <tr>\n",
       "      <th>2</th>\n",
       "      <td>2019-10-25</td>\n",
       "      <td>Credit reporting, credit repair services, or o...</td>\n",
       "      <td>Credit reporting</td>\n",
       "      <td>Incorrect information on your report</td>\n",
       "      <td>Information belongs to someone else</td>\n",
       "      <td>I would like to request the suppression of the...</td>\n",
       "      <td>Company has responded to the consumer and the ...</td>\n",
       "      <td>TRANSUNION INTERMEDIATE HOLDINGS, INC.</td>\n",
       "      <td>CA</td>\n",
       "      <td>937XX</td>\n",
       "      <td>NaN</td>\n",
       "      <td>Consent provided</td>\n",
       "      <td>Web</td>\n",
       "      <td>2019-10-25</td>\n",
       "      <td>Closed with explanation</td>\n",
       "      <td>Yes</td>\n",
       "      <td>NaN</td>\n",
       "      <td>3417821</td>\n",
       "    </tr>\n",
       "    <tr>\n",
       "      <th>3</th>\n",
       "      <td>2019-11-08</td>\n",
       "      <td>Debt collection</td>\n",
       "      <td>I do not know</td>\n",
       "      <td>Communication tactics</td>\n",
       "      <td>Frequent or repeated calls</td>\n",
       "      <td>Over the past 2 weeks, I have been receiving e...</td>\n",
       "      <td>NaN</td>\n",
       "      <td>Diversified Consultants, Inc.</td>\n",
       "      <td>NC</td>\n",
       "      <td>275XX</td>\n",
       "      <td>NaN</td>\n",
       "      <td>Consent provided</td>\n",
       "      <td>Web</td>\n",
       "      <td>2019-11-08</td>\n",
       "      <td>Closed with explanation</td>\n",
       "      <td>Yes</td>\n",
       "      <td>NaN</td>\n",
       "      <td>3433198</td>\n",
       "    </tr>\n",
       "    <tr>\n",
       "      <th>4</th>\n",
       "      <td>2019-02-08</td>\n",
       "      <td>Vehicle loan or lease</td>\n",
       "      <td>Lease</td>\n",
       "      <td>Problem with a credit reporting company's inve...</td>\n",
       "      <td>Their investigation did not fix an error on yo...</td>\n",
       "      <td>NaN</td>\n",
       "      <td>NaN</td>\n",
       "      <td>HYUNDAI CAPITAL AMERICA</td>\n",
       "      <td>FL</td>\n",
       "      <td>33161</td>\n",
       "      <td>NaN</td>\n",
       "      <td>Consent not provided</td>\n",
       "      <td>Web</td>\n",
       "      <td>2019-02-08</td>\n",
       "      <td>Closed with non-monetary relief</td>\n",
       "      <td>Yes</td>\n",
       "      <td>NaN</td>\n",
       "      <td>3146310</td>\n",
       "    </tr>\n",
       "  </tbody>\n",
       "</table>\n",
       "</div>"
      ],
      "text/plain": [
       "  Date received                                            Product  \\\n",
       "0    2019-09-24                                    Debt collection   \n",
       "1    2019-09-19  Credit reporting, credit repair services, or o...   \n",
       "2    2019-10-25  Credit reporting, credit repair services, or o...   \n",
       "3    2019-11-08                                    Debt collection   \n",
       "4    2019-02-08                              Vehicle loan or lease   \n",
       "\n",
       "        Sub-product                                              Issue  \\\n",
       "0     I do not know                  Attempts to collect debt not owed   \n",
       "1  Credit reporting               Incorrect information on your report   \n",
       "2  Credit reporting               Incorrect information on your report   \n",
       "3     I do not know                              Communication tactics   \n",
       "4             Lease  Problem with a credit reporting company's inve...   \n",
       "\n",
       "                                           Sub-issue  \\\n",
       "0                                  Debt is not yours   \n",
       "1                Information belongs to someone else   \n",
       "2                Information belongs to someone else   \n",
       "3                         Frequent or repeated calls   \n",
       "4  Their investigation did not fix an error on yo...   \n",
       "\n",
       "                        Consumer complaint narrative  \\\n",
       "0  transworld systems inc. \\nis trying to collect...   \n",
       "1                                                NaN   \n",
       "2  I would like to request the suppression of the...   \n",
       "3  Over the past 2 weeks, I have been receiving e...   \n",
       "4                                                NaN   \n",
       "\n",
       "                             Company public response  \\\n",
       "0                                                NaN   \n",
       "1  Company has responded to the consumer and the ...   \n",
       "2  Company has responded to the consumer and the ...   \n",
       "3                                                NaN   \n",
       "4                                                NaN   \n",
       "\n",
       "                                  Company State ZIP code Tags  \\\n",
       "0                  TRANSWORLD SYSTEMS INC    FL    335XX  NaN   \n",
       "1     Experian Information Solutions Inc.    PA    15206  NaN   \n",
       "2  TRANSUNION INTERMEDIATE HOLDINGS, INC.    CA    937XX  NaN   \n",
       "3           Diversified Consultants, Inc.    NC    275XX  NaN   \n",
       "4                 HYUNDAI CAPITAL AMERICA    FL    33161  NaN   \n",
       "\n",
       "  Consumer consent provided? Submitted via Date sent to company  \\\n",
       "0           Consent provided           Web           2019-09-24   \n",
       "1       Consent not provided           Web           2019-09-20   \n",
       "2           Consent provided           Web           2019-10-25   \n",
       "3           Consent provided           Web           2019-11-08   \n",
       "4       Consent not provided           Web           2019-02-08   \n",
       "\n",
       "      Company response to consumer Timely response? Consumer disputed?  \\\n",
       "0          Closed with explanation              Yes                NaN   \n",
       "1  Closed with non-monetary relief              Yes                NaN   \n",
       "2          Closed with explanation              Yes                NaN   \n",
       "3          Closed with explanation              Yes                NaN   \n",
       "4  Closed with non-monetary relief              Yes                NaN   \n",
       "\n",
       "   Complaint ID  \n",
       "0       3384392  \n",
       "1       3379500  \n",
       "2       3417821  \n",
       "3       3433198  \n",
       "4       3146310  "
      ]
     },
     "execution_count": 1,
     "metadata": {},
     "output_type": "execute_result"
    }
   ],
   "source": [
    "import types\n",
    "import pandas as pd\n",
    "from botocore.client import Config\n",
    "import ibm_boto3\n",
    "\n",
    "def __iter__(self): return 0\n",
    "\n",
    "# @hidden_cell\n",
    "# The following code accesses a file in your IBM Cloud Object Storage. It includes your credentials.\n",
    "# You might want to remove those credentials before you share the notebook.\n",
    "client_51cbd8ac4f124ba699737e1f03820b07 = ibm_boto3.client(service_name='s3',\n",
    "    ibm_api_key_id='OCLLEBmN7RDIaJmBqGSYBTUph-f6KSyKoQUz_96eAHsK',\n",
    "    ibm_auth_endpoint=\"https://iam.ng.bluemix.net/oidc/token\",\n",
    "    config=Config(signature_version='oauth'),\n",
    "    endpoint_url='https://s3-api.us-geo.objectstorage.service.networklayer.com')\n",
    "\n",
    "body = client_51cbd8ac4f124ba699737e1f03820b07.get_object(Bucket='qmssdseprojectspring2020-donotdelete-pr-goevnou6fbaikq',Key='complaints.csv')['Body']\n",
    "# add missing __iter__ method, so pandas accepts body as file-like object\n",
    "if not hasattr(body, \"__iter__\"): body.__iter__ = types.MethodType( __iter__, body )\n",
    "\n",
    "df_data_1 = pd.read_csv(body)\n",
    "df_data_1.head()"
   ]
  },
  {
   "cell_type": "code",
   "execution_count": 3,
   "metadata": {},
   "outputs": [
    {
     "data": {
      "text/plain": [
       "Product                                                                       Company response to consumer   \n",
       "Credit reporting, credit repair services, or other personal consumer reports  Closed with explanation            262227\n",
       "Mortgage                                                                      Closed with explanation            251498\n",
       "Debt collection                                                               Closed with explanation            227296\n",
       "Credit reporting                                                              Closed with explanation            100360\n",
       "Credit reporting, credit repair services, or other personal consumer reports  Closed with non-monetary relief     66055\n",
       "Bank account or service                                                       Closed with explanation             57059\n",
       "Credit card                                                                   Closed with explanation             53644\n",
       "Student loan                                                                  Closed with explanation             49374\n",
       "Credit card or prepaid card                                                   Closed with explanation             48192\n",
       "Checking or savings account                                                   Closed with explanation             42052\n",
       "Credit reporting                                                              Closed with non-monetary relief     38848\n",
       "Debt collection                                                               Closed with non-monetary relief     37180\n",
       "Consumer Loan                                                                 Closed with explanation             25596\n",
       "Credit card                                                                   Closed with monetary relief         18433\n",
       "Bank account or service                                                       Closed with monetary relief         18200\n",
       "Mortgage                                                                      Closed with non-monetary relief     15821\n",
       "Vehicle loan or lease                                                         Closed with explanation             13237\n",
       "Checking or savings account                                                   Closed with monetary relief         12361\n",
       "Money transfer, virtual currency, or money service                            Closed with explanation             11958\n",
       "Credit card or prepaid card                                                   Closed with monetary relief         11623\n",
       "Mortgage                                                                      Closed without relief               10630\n",
       "Payday loan, title loan, or personal loan                                     Closed with explanation             10356\n",
       "Credit card                                                                   Closed with non-monetary relief      9505\n",
       "Mortgage                                                                      Closed with monetary relief          8523\n",
       "Debt collection                                                               Closed                               7169\n",
       "Credit card or prepaid card                                                   Closed with non-monetary relief      6856\n",
       "Credit reporting, credit repair services, or other personal consumer reports  In progress                          5856\n",
       "Mortgage                                                                      Closed                               5686\n",
       "Bank account or service                                                       Closed with non-monetary relief      5317\n",
       "Payday loan                                                                   Closed with explanation              4629\n",
       "                                                                                                                  ...  \n",
       "Payday loan, title loan, or personal loan                                     Untimely response                     277\n",
       "Payday loan                                                                   Closed with monetary relief           272\n",
       "                                                                              Untimely response                     233\n",
       "Money transfers                                                               Closed with non-monetary relief       232\n",
       "Student loan                                                                  Closed                                216\n",
       "Payday loan                                                                   Closed with non-monetary relief       213\n",
       "                                                                              Closed                                196\n",
       "Consumer Loan                                                                 Untimely response                     167\n",
       "Vehicle loan or lease                                                         Untimely response                     128\n",
       "Other financial service                                                       Closed with monetary relief           117\n",
       "Vehicle loan or lease                                                         In progress                           115\n",
       "Credit card or prepaid card                                                   Untimely response                      99\n",
       "Money transfer, virtual currency, or money service                            Untimely response                      91\n",
       "Consumer Loan                                                                 Closed with relief                     88\n",
       "Money transfer, virtual currency, or money service                            In progress                            85\n",
       "Credit card                                                                   Untimely response                      78\n",
       "Checking or savings account                                                   Untimely response                      77\n",
       "Payday loan, title loan, or personal loan                                     In progress                            75\n",
       "Student loan                                                                  Closed with relief                     75\n",
       "                                                                              In progress                            65\n",
       "Money transfers                                                               Closed                                 61\n",
       "Other financial service                                                       Closed with non-monetary relief        40\n",
       "Prepaid card                                                                  Closed                                 40\n",
       "Other financial service                                                       Closed                                 39\n",
       "Bank account or service                                                       Untimely response                      34\n",
       "Credit reporting                                                              Untimely response                      31\n",
       "Other financial service                                                       Untimely response                      25\n",
       "Virtual currency                                                              Closed with explanation                17\n",
       "Prepaid card                                                                  Untimely response                       3\n",
       "Virtual currency                                                              Closed                                  1\n",
       "Length: 99, dtype: int64"
      ]
     },
     "execution_count": 3,
     "metadata": {},
     "output_type": "execute_result"
    }
   ],
   "source": [
    "df_data_1.groupby(['Product', 'Company response to consumer']).size().sort_values(ascending=False)"
   ]
  },
  {
   "cell_type": "code",
   "execution_count": 2,
   "metadata": {},
   "outputs": [
    {
     "data": {
      "text/plain": [
       "Company response to consumer\n",
       "Closed with explanation            1164829\n",
       "Closed with non-monetary relief     191641\n",
       "Closed with monetary relief          82747\n",
       "Closed without relief                17868\n",
       "Closed                               17611\n",
       "In progress                           8361\n",
       "Untimely response                     7046\n",
       "Closed with relief                    5304\n",
       "dtype: int64"
      ]
     },
     "execution_count": 2,
     "metadata": {},
     "output_type": "execute_result"
    }
   ],
   "source": [
    "df_data_1.groupby(['Company response to consumer']).size().sort_values(ascending=False)"
   ]
  },
  {
   "cell_type": "code",
   "execution_count": 4,
   "metadata": {},
   "outputs": [
    {
     "data": {
      "text/plain": [
       "(5000, 18)"
      ]
     },
     "execution_count": 4,
     "metadata": {},
     "output_type": "execute_result"
    }
   ],
   "source": [
    "df_data_2 = df_data_1.loc[df_data_1['Product'] == 'Mortgage']\n",
    "df_data_2.shape\n",
    "\n",
    "#df_data_3 = df_data_2.sample(n = 5000, random_state = 0)\n",
    "#df_data_3.shape"
   ]
  },
  {
   "cell_type": "code",
   "execution_count": 7,
   "metadata": {},
   "outputs": [],
   "source": [
    "col = ['Company response to consumer', 'Consumer complaint narrative']\n",
    "df = df_data_2[col]\n",
    "df = df[pd.notnull(df['Consumer complaint narrative'])]"
   ]
  },
  {
   "cell_type": "code",
   "execution_count": 8,
   "metadata": {},
   "outputs": [
    {
     "data": {
      "text/plain": [
       "Company response to consumer\n",
       "Closed with explanation            55829\n",
       "Closed with monetary relief         2367\n",
       "Closed with non-monetary relief     2361\n",
       "Closed                               737\n",
       "Untimely response                    185\n",
       "dtype: int64"
      ]
     },
     "execution_count": 8,
     "metadata": {},
     "output_type": "execute_result"
    }
   ],
   "source": [
    "df.groupby(['Company response to consumer']).size().sort_values(ascending=False)"
   ]
  },
  {
   "cell_type": "code",
   "execution_count": 13,
   "metadata": {},
   "outputs": [],
   "source": [
    "min_n = df.groupby(['Company response to consumer']).size().min()\n",
    "\n",
    "df1 = df.loc[df['Company response to consumer'] == 'Closed with explanation'].sample(n = min_n, random_state = 0)\n",
    "df2 = df.loc[df['Company response to consumer'] == 'Closed with monetary relief'].sample(n = min_n, random_state = 0)\n",
    "df3 = df.loc[df['Company response to consumer'] == 'Closed with non-monetary relief'].sample(n = min_n, random_state = 0)\n",
    "df4 = df.loc[df['Company response to consumer'] == 'Closed'].sample(n = min_n, random_state = 0)\n",
    "df5 = df.loc[df['Company response to consumer'] == 'Untimely response'].sample(n = min_n, random_state = 0)\n",
    "\n",
    "df_new = df1.append([df2, df3, df4, df5])"
   ]
  },
  {
   "cell_type": "code",
   "execution_count": 14,
   "metadata": {},
   "outputs": [],
   "source": [
    "df_new['category_id'] = df_new['Company response to consumer'].factorize()[0]\n",
    "category_id_df = df_new[['Company response to consumer', 'category_id']].drop_duplicates().sort_values('category_id')\n",
    "category_to_id = dict(category_id_df.values)\n",
    "id_to_category = dict(category_id_df[['category_id', 'Company response to consumer']].values)"
   ]
  },
  {
   "cell_type": "code",
   "execution_count": 15,
   "metadata": {},
   "outputs": [
    {
     "data": {
      "text/plain": [
       "{'Closed with explanation': 0,\n",
       " 'Closed with monetary relief': 1,\n",
       " 'Closed with non-monetary relief': 2,\n",
       " 'Closed': 3,\n",
       " 'Untimely response': 4}"
      ]
     },
     "execution_count": 15,
     "metadata": {},
     "output_type": "execute_result"
    }
   ],
   "source": [
    "category_to_id"
   ]
  },
  {
   "cell_type": "code",
   "execution_count": 18,
   "metadata": {},
   "outputs": [
    {
     "data": {
      "text/plain": [
       "{0: 'Closed with explanation',\n",
       " 1: 'Closed with non-monetary relief',\n",
       " 2: 'Closed with monetary relief',\n",
       " 3: 'Untimely response',\n",
       " 4: 'Closed'}"
      ]
     },
     "execution_count": 18,
     "metadata": {},
     "output_type": "execute_result"
    }
   ],
   "source": [
    "id_to_category"
   ]
  },
  {
   "cell_type": "code",
   "execution_count": 16,
   "metadata": {},
   "outputs": [],
   "source": [
    "df_new.columns = ['Company_response_to_consumer', 'Consumer_complaint_narrative', 'category_id']\n",
    "category_id_df.columns = ['Company_response_to_consumer', 'category_id']"
   ]
  },
  {
   "cell_type": "code",
   "execution_count": 18,
   "metadata": {},
   "outputs": [
    {
     "data": {
      "image/png": "[encoded data removed]",
      "text/plain": [
       "<Figure size 576x432 with 1 Axes>"
      ]
     },
     "metadata": {
      "needs_background": "light"
     },
     "output_type": "display_data"
    }
   ],
   "source": [
    "import matplotlib.pyplot as plt\n",
    "fig = plt.figure(figsize=(8,6))\n",
    "df_new.groupby('Company_response_to_consumer').Consumer_complaint_narrative.count().plot.bar(ylim=0)\n",
    "plt.show()"
   ]
  },
  {
   "cell_type": "markdown",
   "metadata": {},
   "source": [
    "# Text classifier"
   ]
  },
  {
   "cell_type": "code",
   "execution_count": 20,
   "metadata": {},
   "outputs": [
    {
     "data": {
      "text/plain": [
       "(925, 4205)"
      ]
     },
     "execution_count": 20,
     "metadata": {},
     "output_type": "execute_result"
    }
   ],
   "source": [
    "from sklearn.feature_extraction.text import TfidfVectorizer\n",
    "\n",
    "tfidf = TfidfVectorizer(sublinear_tf=True, min_df=5, norm='l2', encoding='latin-1', ngram_range=(1, 2), stop_words='english')\n",
    "features = tfidf.fit_transform(df_new.Consumer_complaint_narrative).toarray()\n",
    "labels = df_new.category_id\n",
    "features.shape"
   ]
  },
  {
   "cell_type": "code",
   "execution_count": 21,
   "metadata": {},
   "outputs": [
    {
     "name": "stdout",
     "output_type": "stream",
     "text": [
      "# 'Closed':\n",
      "  . Most correlated unigrams:\n",
      ". pnc\n",
      ". ocwen\n",
      "  . Most correlated bigrams:\n",
      ". pnc mortgage\n",
      ". planet home\n",
      "# 'Closed with explanation':\n",
      "  . Most correlated unigrams:\n",
      ". cooper\n",
      ". shellpoint\n",
      "  . Most correlated bigrams:\n",
      ". carrington mortgage\n",
      ". mr cooper\n",
      "# 'Closed with monetary relief':\n",
      "  . Most correlated unigrams:\n",
      ". fee\n",
      ". closing\n",
      "  . Most correlated bigrams:\n",
      ". 500 00\n",
      ". lender credit\n",
      "# 'Closed with non-monetary relief':\n",
      "  . Most correlated unigrams:\n",
      ". america\n",
      ". regions\n",
      "  . Most correlated bigrams:\n",
      ". green tree\n",
      ". bank america\n",
      "# 'Untimely response':\n",
      "  . Most correlated unigrams:\n",
      ". kids\n",
      ". capital\n",
      "  . Most correlated bigrams:\n",
      ". mortgage corp\n",
      ". hard inquiry\n"
     ]
    }
   ],
   "source": [
    "from sklearn.feature_selection import chi2\n",
    "import numpy as np\n",
    "\n",
    "N = 2\n",
    "for Company_response_to_consumer, category_id in sorted(category_to_id.items()):\n",
    "  features_chi2 = chi2(features, labels == category_id)\n",
    "  indices = np.argsort(features_chi2[0])\n",
    "  feature_names = np.array(tfidf.get_feature_names())[indices]\n",
    "  unigrams = [v for v in feature_names if len(v.split(' ')) == 1]\n",
    "  bigrams = [v for v in feature_names if len(v.split(' ')) == 2]\n",
    "  print(\"# '{}':\".format(Company_response_to_consumer))\n",
    "  print(\"  . Most correlated unigrams:\\n. {}\".format('\\n. '.join(unigrams[-N:])))\n",
    "  print(\"  . Most correlated bigrams:\\n. {}\".format('\\n. '.join(bigrams[-N:])))"
   ]
  },
  {
   "cell_type": "markdown",
   "metadata": {},
   "source": [
    "# Training the classifier"
   ]
  },
  {
   "cell_type": "code",
   "execution_count": 22,
   "metadata": {},
   "outputs": [],
   "source": [
    "from sklearn.model_selection import train_test_split\n",
    "from sklearn.feature_extraction.text import CountVectorizer\n",
    "from sklearn.feature_extraction.text import TfidfTransformer\n",
    "from sklearn.naive_bayes import MultinomialNB\n",
    "\n",
    "X_train, X_test, y_train, y_test = train_test_split(df_new['Consumer_complaint_narrative'], df_new['Company_response_to_consumer'], random_state = 0)\n",
    "count_vect = CountVectorizer()\n",
    "X_train_counts = count_vect.fit_transform(X_train)\n",
    "tfidf_transformer = TfidfTransformer()\n",
    "X_train_tfidf = tfidf_transformer.fit_transform(X_train_counts)\n",
    "clf = MultinomialNB().fit(X_train_tfidf, y_train)"
   ]
  },
  {
   "cell_type": "code",
   "execution_count": 26,
   "metadata": {},
   "outputs": [
    {
     "name": "stdout",
     "output_type": "stream",
     "text": [
      "['Untimely response']\n"
     ]
    }
   ],
   "source": [
    "print(clf.predict(count_vect.transform([\"My mortgage company sold my loan to another company. I did not make the final payment for the current month within the usual 15 day grace period. When this happens, I pay the late fee ( {$100.00} ) and the regular payment. With the transfer of companies, I have not been able to pay my mortgage. XXXX, I have called my former/original mortgage company to pay, and I have been put on hold for over 15 minutes only to have the call hang up. XXXX, I tried to pay via the former mortgage companies speed pay \\ website option and been unsuccessful because it would say  unable to process . I know i would not be penalized if I sent a payment to the former mortgage company, but I am unable to send them the payment. The new company takes over on XXXX XXXX. I can not pay them yet. Even if I pay my payment for XXXX after XXXX XXXX, it would be over a month late. But I have been unable to do otherwise because I can not speak to anyone at my former mortgage company.\"])))\n",
    "\n"
   ]
  },
  {
   "cell_type": "code",
   "execution_count": 28,
   "metadata": {},
   "outputs": [
    {
     "data": {
      "text/html": [
       "<div>\n",
       "<style scoped>\n",
       "    .dataframe tbody tr th:only-of-type {\n",
       "        vertical-align: middle;\n",
       "    }\n",
       "\n",
       "    .dataframe tbody tr th {\n",
       "        vertical-align: top;\n",
       "    }\n",
       "\n",
       "    .dataframe thead th {\n",
       "        text-align: right;\n",
       "    }\n",
       "</style>\n",
       "<table border=\"1\" class=\"dataframe\">\n",
       "  <thead>\n",
       "    <tr style=\"text-align: right;\">\n",
       "      <th></th>\n",
       "      <th>Company_response_to_consumer</th>\n",
       "      <th>Consumer_complaint_narrative</th>\n",
       "      <th>category_id</th>\n",
       "    </tr>\n",
       "  </thead>\n",
       "  <tbody>\n",
       "  </tbody>\n",
       "</table>\n",
       "</div>"
      ],
      "text/plain": [
       "Empty DataFrame\n",
       "Columns: [Company_response_to_consumer, Consumer_complaint_narrative, category_id]\n",
       "Index: []"
      ]
     },
     "execution_count": 28,
     "metadata": {},
     "output_type": "execute_result"
    }
   ],
   "source": [
    "df_new[df_new['Consumer_complaint_narrative'] == \"My mortgage company sold my loan to another company. I did not make the final payment for the current month within the usual 15 day grace period. When this happens, I pay the late fee ( {$100.00} ) and the regular payment. With the transfer of companies, I have not been able to pay my mortgage. XXXX, I have called my former/original mortgage company to pay, and I have been put on hold for over 15 minutes only to have the call hang up. XXXX, I tried to pay via the former mortgage companies speed pay \\ website option and been unsuccessful because it would say  unable to process . I know i would not be penalized if I sent a payment to the former mortgage company, but I am unable to send them the payment. The new company takes over on XXXX XXXX. I can not pay them yet. Even if I pay my payment for XXXX after XXXX XXXX, it would be over a month late. But I have been unable to do otherwise because I can not speak to anyone at my former mortgage company.\"]"
   ]
  },
  {
   "cell_type": "code",
   "execution_count": 23,
   "metadata": {},
   "outputs": [
    {
     "data": {
      "text/html": [
       "<div>\n",
       "<style scoped>\n",
       "    .dataframe tbody tr th:only-of-type {\n",
       "        vertical-align: middle;\n",
       "    }\n",
       "\n",
       "    .dataframe tbody tr th {\n",
       "        vertical-align: top;\n",
       "    }\n",
       "\n",
       "    .dataframe thead th {\n",
       "        text-align: right;\n",
       "    }\n",
       "</style>\n",
       "<table border=\"1\" class=\"dataframe\">\n",
       "  <thead>\n",
       "    <tr style=\"text-align: right;\">\n",
       "      <th></th>\n",
       "      <th>Company_response_to_consumer</th>\n",
       "      <th>Consumer_complaint_narrative</th>\n",
       "      <th>category_id</th>\n",
       "    </tr>\n",
       "  </thead>\n",
       "  <tbody>\n",
       "    <tr>\n",
       "      <th>965868</th>\n",
       "      <td>Untimely response</td>\n",
       "      <td>I was contacted by XXXX XXXX and XXXX XXXX thr...</td>\n",
       "      <td>4</td>\n",
       "    </tr>\n",
       "    <tr>\n",
       "      <th>544499</th>\n",
       "      <td>Untimely response</td>\n",
       "      <td>XXXX   XXXX  of  XXXX   XXXX  in arizona is cr...</td>\n",
       "      <td>4</td>\n",
       "    </tr>\n",
       "    <tr>\n",
       "      <th>1221550</th>\n",
       "      <td>Untimely response</td>\n",
       "      <td>My mortgage company sold my loan to another co...</td>\n",
       "      <td>4</td>\n",
       "    </tr>\n",
       "    <tr>\n",
       "      <th>317215</th>\n",
       "      <td>Untimely response</td>\n",
       "      <td>On XX/XX/XXXX I received correspondence via ma...</td>\n",
       "      <td>4</td>\n",
       "    </tr>\n",
       "    <tr>\n",
       "      <th>1423301</th>\n",
       "      <td>Untimely response</td>\n",
       "      <td>Tips for Getting Started consumers financial p...</td>\n",
       "      <td>4</td>\n",
       "    </tr>\n",
       "  </tbody>\n",
       "</table>\n",
       "</div>"
      ],
      "text/plain": [
       "        Company_response_to_consumer  \\\n",
       "965868             Untimely response   \n",
       "544499             Untimely response   \n",
       "1221550            Untimely response   \n",
       "317215             Untimely response   \n",
       "1423301            Untimely response   \n",
       "\n",
       "                              Consumer_complaint_narrative  category_id  \n",
       "965868   I was contacted by XXXX XXXX and XXXX XXXX thr...            4  \n",
       "544499   XXXX   XXXX  of  XXXX   XXXX  in arizona is cr...            4  \n",
       "1221550  My mortgage company sold my loan to another co...            4  \n",
       "317215   On XX/XX/XXXX I received correspondence via ma...            4  \n",
       "1423301  Tips for Getting Started consumers financial p...            4  "
      ]
     },
     "execution_count": 23,
     "metadata": {},
     "output_type": "execute_result"
    }
   ],
   "source": [
    "df_new.tail()"
   ]
  },
  {
   "cell_type": "code",
   "execution_count": 32,
   "metadata": {},
   "outputs": [
    {
     "data": {
      "text/plain": [
       "'Closed'"
      ]
     },
     "execution_count": 32,
     "metadata": {},
     "output_type": "execute_result"
    }
   ],
   "source": [
    "df_new.Consumer_complaint_narrative.iloc[-250]\n",
    "df_new.Company_response_to_consumer.iloc[-250]"
   ]
  },
  {
   "cell_type": "code",
   "execution_count": 31,
   "metadata": {},
   "outputs": [
    {
     "name": "stdout",
     "output_type": "stream",
     "text": [
      "['Closed']\n"
     ]
    }
   ],
   "source": [
    "print(clf.predict(count_vect.transform([\"1. My wife and I, both XXXX, foolishly signed papers pretending to sell our house in order to prevent foreclosure. \\n2. We want to clear the title, loan still in my name, resume mortgage payments, now considerably reduced. \\n3. Do not include sensitive information like your name, contact information, account number, or social security number in this field. So what  my information \\'\\' can I give you? \\n4. 2008 $ XXXX mortgage5. Review?\"])))"
   ]
  },
  {
   "cell_type": "markdown",
   "metadata": {},
   "source": [
    "# Other models"
   ]
  },
  {
   "cell_type": "code",
   "execution_count": 33,
   "metadata": {},
   "outputs": [
    {
     "name": "stderr",
     "output_type": "stream",
     "text": [
      "/opt/conda/envs/Python36/lib/python3.6/site-packages/sklearn/linear_model/logistic.py:433: FutureWarning: Default solver will be changed to 'lbfgs' in 0.22. Specify a solver to silence this warning.\n",
      "  FutureWarning)\n",
      "/opt/conda/envs/Python36/lib/python3.6/site-packages/sklearn/linear_model/logistic.py:460: FutureWarning: Default multi_class will be changed to 'auto' in 0.22. Specify the multi_class option to silence this warning.\n",
      "  \"this warning.\", FutureWarning)\n",
      "/opt/conda/envs/Python36/lib/python3.6/site-packages/sklearn/linear_model/logistic.py:433: FutureWarning: Default solver will be changed to 'lbfgs' in 0.22. Specify a solver to silence this warning.\n",
      "  FutureWarning)\n",
      "/opt/conda/envs/Python36/lib/python3.6/site-packages/sklearn/linear_model/logistic.py:460: FutureWarning: Default multi_class will be changed to 'auto' in 0.22. Specify the multi_class option to silence this warning.\n",
      "  \"this warning.\", FutureWarning)\n",
      "/opt/conda/envs/Python36/lib/python3.6/site-packages/sklearn/linear_model/logistic.py:433: FutureWarning: Default solver will be changed to 'lbfgs' in 0.22. Specify a solver to silence this warning.\n",
      "  FutureWarning)\n",
      "/opt/conda/envs/Python36/lib/python3.6/site-packages/sklearn/linear_model/logistic.py:460: FutureWarning: Default multi_class will be changed to 'auto' in 0.22. Specify the multi_class option to silence this warning.\n",
      "  \"this warning.\", FutureWarning)\n",
      "/opt/conda/envs/Python36/lib/python3.6/site-packages/sklearn/linear_model/logistic.py:433: FutureWarning: Default solver will be changed to 'lbfgs' in 0.22. Specify a solver to silence this warning.\n",
      "  FutureWarning)\n",
      "/opt/conda/envs/Python36/lib/python3.6/site-packages/sklearn/linear_model/logistic.py:460: FutureWarning: Default multi_class will be changed to 'auto' in 0.22. Specify the multi_class option to silence this warning.\n",
      "  \"this warning.\", FutureWarning)\n",
      "/opt/conda/envs/Python36/lib/python3.6/site-packages/sklearn/linear_model/logistic.py:433: FutureWarning: Default solver will be changed to 'lbfgs' in 0.22. Specify a solver to silence this warning.\n",
      "  FutureWarning)\n",
      "/opt/conda/envs/Python36/lib/python3.6/site-packages/sklearn/linear_model/logistic.py:460: FutureWarning: Default multi_class will be changed to 'auto' in 0.22. Specify the multi_class option to silence this warning.\n",
      "  \"this warning.\", FutureWarning)\n"
     ]
    },
    {
     "data": {
      "image/png": "[encoded data removed]",
      "text/plain": [
       "<Figure size 432x288 with 1 Axes>"
      ]
     },
     "metadata": {
      "needs_background": "light"
     },
     "output_type": "display_data"
    }
   ],
   "source": [
    "from sklearn.linear_model import LogisticRegression\n",
    "from sklearn.ensemble import RandomForestClassifier\n",
    "from sklearn.svm import LinearSVC\n",
    "from sklearn.model_selection import cross_val_score\n",
    "\n",
    "models = [\n",
    "    RandomForestClassifier(n_estimators=200, max_depth=3, random_state=0),\n",
    "    LinearSVC(),\n",
    "    MultinomialNB(),\n",
    "    LogisticRegression(random_state=0),\n",
    "]\n",
    "\n",
    "CV = 5\n",
    "cv_df = pd.DataFrame(index=range(CV * len(models)))\n",
    "entries = []\n",
    "for model in models:\n",
    "  model_name = model.__class__.__name__\n",
    "  accuracies = cross_val_score(model, features, labels, scoring='accuracy', cv=CV)\n",
    "  for fold_idx, accuracy in enumerate(accuracies):\n",
    "    entries.append((model_name, fold_idx, accuracy))\n",
    "cv_df = pd.DataFrame(entries, columns=['model_name', 'fold_idx', 'accuracy'])\n",
    "\n",
    "import seaborn as sns\n",
    "\n",
    "sns.boxplot(x='model_name', y='accuracy', data=cv_df)\n",
    "sns.stripplot(x='model_name', y='accuracy', data=cv_df, \n",
    "              size=8, jitter=True, edgecolor=\"gray\", linewidth=2)\n",
    "plt.show()"
   ]
  },
  {
   "cell_type": "code",
   "execution_count": 34,
   "metadata": {},
   "outputs": [
    {
     "data": {
      "text/plain": [
       "model_name\n",
       "LinearSVC                 0.402162\n",
       "LogisticRegression        0.423784\n",
       "MultinomialNB             0.408649\n",
       "RandomForestClassifier    0.383784\n",
       "Name: accuracy, dtype: float64"
      ]
     },
     "execution_count": 34,
     "metadata": {},
     "output_type": "execute_result"
    }
   ],
   "source": [
    "cv_df.groupby('model_name').accuracy.mean()"
   ]
  },
  {
   "cell_type": "markdown",
   "metadata": {},
   "source": [
    "# Linear SVC"
   ]
  },
  {
   "cell_type": "code",
   "execution_count": 35,
   "metadata": {},
   "outputs": [
    {
     "data": {
      "image/png": "[encoded data removed]",
      "text/plain": [
       "<Figure size 720x720 with 2 Axes>"
      ]
     },
     "metadata": {
      "needs_background": "light"
     },
     "output_type": "display_data"
    }
   ],
   "source": [
    "model = LinearSVC()\n",
    "\n",
    "X_train, X_test, y_train, y_test, indices_train, indices_test = train_test_split(features, labels, df_new.index, test_size=0.33, random_state=0)\n",
    "model.fit(X_train, y_train)\n",
    "\n",
    "y_pred = model.predict(X_test)\n",
    "\n",
    "from sklearn.metrics import confusion_matrix\n",
    "\n",
    "conf_mat = confusion_matrix(y_test, y_pred)\n",
    "\n",
    "fig, ax = plt.subplots(figsize=(10,10))\n",
    "\n",
    "sns.heatmap(conf_mat, annot=True, fmt='d',\n",
    "            xticklabels=category_id_df.Company_response_to_consumer.values, yticklabels=category_id_df.Company_response_to_consumer.values)\n",
    "\n",
    "plt.ylabel('Actual')\n",
    "plt.xlabel('Predicted')\n",
    "plt.show()"
   ]
  },
  {
   "cell_type": "markdown",
   "metadata": {},
   "source": [
    "# Classification Report"
   ]
  },
  {
   "cell_type": "code",
   "execution_count": 36,
   "metadata": {},
   "outputs": [
    {
     "name": "stdout",
     "output_type": "stream",
     "text": [
      "                                 precision    recall  f1-score   support\n",
      "\n",
      "        Closed with explanation       0.46      0.32      0.38        59\n",
      "    Closed with monetary relief       0.41      0.42      0.41        65\n",
      "Closed with non-monetary relief       0.27      0.28      0.28        60\n",
      "                         Closed       0.36      0.43      0.39        58\n",
      "              Untimely response       0.47      0.50      0.48        64\n",
      "\n",
      "                      micro avg       0.39      0.39      0.39       306\n",
      "                      macro avg       0.40      0.39      0.39       306\n",
      "                   weighted avg       0.40      0.39      0.39       306\n",
      "\n"
     ]
    }
   ],
   "source": [
    "from sklearn import metrics\n",
    "\n",
    "print(metrics.classification_report(y_test, y_pred, target_names=df_new['Company_response_to_consumer'].unique()))"
   ]
  },
  {
   "cell_type": "code",
   "execution_count": 47,
   "metadata": {},
   "outputs": [
    {
     "data": {
      "text/html": [
       "<div>\n",
       "<style scoped>\n",
       "    .dataframe tbody tr th:only-of-type {\n",
       "        vertical-align: middle;\n",
       "    }\n",
       "\n",
       "    .dataframe tbody tr th {\n",
       "        vertical-align: top;\n",
       "    }\n",
       "\n",
       "    .dataframe thead th {\n",
       "        text-align: right;\n",
       "    }\n",
       "</style>\n",
       "<table border=\"1\" class=\"dataframe\">\n",
       "  <thead>\n",
       "    <tr style=\"text-align: right;\">\n",
       "      <th></th>\n",
       "      <th>Company_response_to_consumer</th>\n",
       "      <th>Consumer_complaint_narrative</th>\n",
       "      <th>category_id</th>\n",
       "    </tr>\n",
       "  </thead>\n",
       "  <tbody>\n",
       "    <tr>\n",
       "      <th>1265873</th>\n",
       "      <td>Closed with explanation</td>\n",
       "      <td>My complaint numbers are:XXXX and XXXX. \\nWe f...</td>\n",
       "      <td>0</td>\n",
       "    </tr>\n",
       "    <tr>\n",
       "      <th>290514</th>\n",
       "      <td>Closed with explanation</td>\n",
       "      <td>New York community bank aka Ohio savings bank ...</td>\n",
       "      <td>0</td>\n",
       "    </tr>\n",
       "    <tr>\n",
       "      <th>1179065</th>\n",
       "      <td>Closed with explanation</td>\n",
       "      <td>On XXXX/XXXX/2012, I sold my home via a cash s...</td>\n",
       "      <td>0</td>\n",
       "    </tr>\n",
       "    <tr>\n",
       "      <th>1166140</th>\n",
       "      <td>Closed with explanation</td>\n",
       "      <td>Back in 2010 I asked BOA for a loan modificati...</td>\n",
       "      <td>0</td>\n",
       "    </tr>\n",
       "    <tr>\n",
       "      <th>511929</th>\n",
       "      <td>Closed with explanation</td>\n",
       "      <td>Hi, I filed this complaint because I don't wan...</td>\n",
       "      <td>0</td>\n",
       "    </tr>\n",
       "  </tbody>\n",
       "</table>\n",
       "</div>"
      ],
      "text/plain": [
       "        Company_response_to_consumer  \\\n",
       "1265873      Closed with explanation   \n",
       "290514       Closed with explanation   \n",
       "1179065      Closed with explanation   \n",
       "1166140      Closed with explanation   \n",
       "511929       Closed with explanation   \n",
       "\n",
       "                              Consumer_complaint_narrative  category_id  \n",
       "1265873  My complaint numbers are:XXXX and XXXX. \\nWe f...            0  \n",
       "290514   New York community bank aka Ohio savings bank ...            0  \n",
       "1179065  On XXXX/XXXX/2012, I sold my home via a cash s...            0  \n",
       "1166140  Back in 2010 I asked BOA for a loan modificati...            0  \n",
       "511929   Hi, I filed this complaint because I don't wan...            0  "
      ]
     },
     "execution_count": 47,
     "metadata": {},
     "output_type": "execute_result"
    }
   ],
   "source": [
    "y"
   ]
  },
  {
   "cell_type": "code",
   "execution_count": null,
   "metadata": {},
   "outputs": [],
   "source": []
  }
 ],
 "metadata": {
  "kernelspec": {
   "display_name": "Python 3.6",
   "language": "python",
   "name": "python3"
  },
  "language_info": {
   "codemirror_mode": {
    "name": "ipython",
    "version": 3
   },
   "file_extension": ".py",
   "mimetype": "text/x-python",
   "name": "python",
   "nbconvert_exporter": "python",
   "pygments_lexer": "ipython3",
   "version": "3.6.9"
  }
 },
 "nbformat": 4,
 "nbformat_minor": 1
}
