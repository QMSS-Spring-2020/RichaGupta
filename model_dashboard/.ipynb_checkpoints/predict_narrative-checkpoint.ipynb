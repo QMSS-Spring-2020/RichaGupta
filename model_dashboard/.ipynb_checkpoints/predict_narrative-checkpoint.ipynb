{
 "cells": [
  {
   "cell_type": "code",
   "execution_count": 1,
   "metadata": {},
   "outputs": [],
   "source": [
    "def predict_narrative(new_narrative):\n",
    "    import pickle\n",
    "    pipeline = pickle.load(open( \"model-dir/model_svc_fit.pkl\", 'rb') )\n",
    "    cat = pipeline.predict([new_narrative])\n",
    "    return print(cat)"
   ]
  }
 ],
 "metadata": {
  "kernelspec": {
   "display_name": "Python 3",
   "language": "python",
   "name": "python3"
  },
  "language_info": {
   "codemirror_mode": {
    "name": "ipython",
    "version": 3
   },
   "file_extension": ".py",
   "mimetype": "text/x-python",
   "name": "python",
   "nbconvert_exporter": "python",
   "pygments_lexer": "ipython3",
   "version": "3.7.3"
  }
 },
 "nbformat": 4,
 "nbformat_minor": 2
}
